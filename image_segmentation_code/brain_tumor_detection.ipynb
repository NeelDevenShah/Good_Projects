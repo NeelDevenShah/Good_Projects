{
  "nbformat": 4,
  "nbformat_minor": 0,
  "metadata": {
    "colab": {
      "provenance": [],
      "gpuType": "T4"
    },
    "kernelspec": {
      "name": "python3",
      "display_name": "Python 3"
    },
    "language_info": {
      "name": "python"
    },
    "accelerator": "GPU"
  },
  "cells": [
    {
      "cell_type": "code",
      "execution_count": null,
      "metadata": {
        "id": "jMyxHTW941pT"
      },
      "outputs": [],
      "source": [
        "import tensorflow as tf\n",
        "from keras import Sequential, utils\n",
        "from keras.layers import Conv2D, Dense, MaxPooling2D, BatchNormalization, Dropout, Flatten\n",
        "from keras.preprocessing import image\n",
        "import zipfile\n",
        "import matplotlib.pyplot as plt\n",
        "import numpy as np\n"
      ]
    },
    {
      "cell_type": "code",
      "source": [
        "!mkdir -p ~/.kaggle\n",
        "!cp kaggle.json ~/.kaggle"
      ],
      "metadata": {
        "id": "-TCY9NB__7sv"
      },
      "execution_count": null,
      "outputs": []
    },
    {
      "cell_type": "code",
      "source": [
        "!kaggle datasets download -d masoudnickparvar/brain-tumor-mri-dataset"
      ],
      "metadata": {
        "colab": {
          "base_uri": "https://localhost:8080/"
        },
        "id": "XtZuv5iAATvW",
        "outputId": "4b608680-7226-4615-8281-b1d131635fa9"
      },
      "execution_count": null,
      "outputs": [
        {
          "output_type": "stream",
          "name": "stdout",
          "text": [
            "Warning: Your Kaggle API key is readable by other users on this system! To fix this, you can run 'chmod 600 /root/.kaggle/kaggle.json'\n",
            "Downloading brain-tumor-mri-dataset.zip to /content\n",
            "100% 149M/149M [00:04<00:00, 44.7MB/s]\n",
            "100% 149M/149M [00:04<00:00, 35.8MB/s]\n"
          ]
        }
      ]
    },
    {
      "cell_type": "code",
      "source": [
        "zipf = zipfile.ZipFile('/content/brain-tumor-mri-dataset.zip')\n",
        "zipf.extractall()"
      ],
      "metadata": {
        "id": "dX9e27JaA3jj"
      },
      "execution_count": null,
      "outputs": []
    },
    {
      "cell_type": "code",
      "source": [
        "train_gen = image.ImageDataGenerator(\n",
        "    horizontal_flip=True,\n",
        "    vertical_flip=True,\n",
        "    zoom_range = .2\n",
        ")\n",
        "\n",
        "test_gen = image.ImageDataGenerator(\n",
        ")\n"
      ],
      "metadata": {
        "id": "AfFjut04BA1w"
      },
      "execution_count": null,
      "outputs": []
    },
    {
      "cell_type": "code",
      "source": [
        "train_data = utils.image_dataset_from_directory(\n",
        "    directory = '/content/Training',\n",
        "    image_size = (256,256),\n",
        "    batch_size = 32,\n",
        "    labels='inferred',\n",
        ")\n",
        "\n",
        "test_data = utils.image_dataset_from_directory(\n",
        "    image_size = (256,256),\n",
        "    directory = '/content/Testing',\n",
        "    batch_size = 32,\n",
        "    labels='inferred',\n",
        ")"
      ],
      "metadata": {
        "colab": {
          "base_uri": "https://localhost:8080/"
        },
        "id": "TkXm_2HgCEaU",
        "outputId": "03ca8bf1-37a7-441f-b048-bc1408ff97ca"
      },
      "execution_count": null,
      "outputs": [
        {
          "output_type": "stream",
          "name": "stdout",
          "text": [
            "Found 5712 files belonging to 4 classes.\n",
            "Found 1311 files belonging to 4 classes.\n"
          ]
        }
      ]
    },
    {
      "cell_type": "code",
      "source": [
        "train_data"
      ],
      "metadata": {
        "colab": {
          "base_uri": "https://localhost:8080/"
        },
        "id": "CzbXaSS48kNr",
        "outputId": "da2e08a9-4fe5-4301-d4b1-cda1dac5c706"
      },
      "execution_count": null,
      "outputs": [
        {
          "output_type": "execute_result",
          "data": {
            "text/plain": [
              "<_BatchDataset element_spec=(TensorSpec(shape=(None, 256, 256, 3), dtype=tf.float32, name=None), TensorSpec(shape=(None,), dtype=tf.int32, name=None))>"
            ]
          },
          "metadata": {},
          "execution_count": 7
        }
      ]
    },
    {
      "cell_type": "code",
      "source": [
        "def process(img,lbl):\n",
        "  img = tf.cast(img/255, tf.float32)\n",
        "  return img,lbl\n",
        "\n",
        "train_data = train_data.map(process)\n",
        "test_data = test_data.map(process)"
      ],
      "metadata": {
        "id": "H48tEstdNAbr"
      },
      "execution_count": null,
      "outputs": []
    },
    {
      "cell_type": "code",
      "source": [
        "model = Sequential()\n",
        "\n",
        "model.add(Conv2D(32, input_shape = (256,256,3), kernel_size = (3,3), padding = 'valid',activation = 'relu'))\n",
        "model.add(BatchNormalization())\n",
        "model.add(MaxPooling2D((3,3),3, padding='valid'))\n",
        "\n",
        "model.add(Conv2D(64, kernel_size = (3,3), padding = 'valid',activation = 'relu'))\n",
        "model.add(BatchNormalization())\n",
        "model.add(MaxPooling2D((3,3),3, padding='valid'))\n",
        "\n",
        "model.add(Conv2D(128, kernel_size = (3,3), padding = 'valid',activation = 'relu'))\n",
        "model.add(BatchNormalization())\n",
        "model.add(MaxPooling2D((3,3),3, padding='valid'))\n",
        "\n",
        "model.add(Conv2D(256, kernel_size = (3,3), padding = 'valid',activation = 'relu'))\n",
        "model.add(BatchNormalization())\n",
        "model.add(MaxPooling2D((3,3),3, padding='valid'))\n",
        "\n",
        "model.add(Flatten())\n",
        "\n",
        "\n",
        "model.add(Dense(128, 'relu'))\n",
        "model.add(BatchNormalization())\n",
        "model.add(Dense(64, 'relu'))\n",
        "model.add(BatchNormalization())\n",
        "model.add(Dense(4, 'softmax'))\n"
      ],
      "metadata": {
        "id": "_7WvtRWZDete"
      },
      "execution_count": null,
      "outputs": []
    },
    {
      "cell_type": "code",
      "source": [
        "model.compile(optimizer='adam',loss='sparse_categorical_crossentropy',metrics = ['accuracy'])"
      ],
      "metadata": {
        "id": "U9D-VDI6E0Lj"
      },
      "execution_count": null,
      "outputs": []
    },
    {
      "cell_type": "code",
      "source": [
        "es = tf.keras.callbacks.EarlyStopping(\n",
        "    monitor=\"val_accuracy\",\n",
        "    min_delta=0,\n",
        "    patience=10,\n",
        "    verbose=1,\n",
        "    mode=\"auto\",\n",
        "    baseline=None,\n",
        "    restore_best_weights=True,\n",
        "    start_from_epoch=0,\n",
        ")"
      ],
      "metadata": {
        "id": "C1NLgm-KFujF"
      },
      "execution_count": null,
      "outputs": []
    },
    {
      "cell_type": "code",
      "source": [
        "hist = model.fit(x=train_data,epochs = 100,callbacks = es, validation_data = test_data)"
      ],
      "metadata": {
        "colab": {
          "base_uri": "https://localhost:8080/"
        },
        "id": "f8Cz8ABbFSLO",
        "outputId": "81d6f070-337d-4ff0-b95f-83b9867050ea"
      },
      "execution_count": null,
      "outputs": [
        {
          "output_type": "stream",
          "name": "stdout",
          "text": [
            "Epoch 1/100\n",
            "179/179 [==============================] - 21s 87ms/step - loss: 0.4610 - accuracy: 0.8262 - val_loss: 3.7058 - val_accuracy: 0.3974\n",
            "Epoch 2/100\n",
            "179/179 [==============================] - 19s 104ms/step - loss: 0.2548 - accuracy: 0.9076 - val_loss: 1.1340 - val_accuracy: 0.5988\n",
            "Epoch 3/100\n",
            "179/179 [==============================] - 15s 85ms/step - loss: 0.1914 - accuracy: 0.9329 - val_loss: 0.7968 - val_accuracy: 0.7475\n",
            "Epoch 4/100\n",
            "179/179 [==============================] - 17s 94ms/step - loss: 0.1404 - accuracy: 0.9520 - val_loss: 0.7099 - val_accuracy: 0.7834\n",
            "Epoch 5/100\n",
            "179/179 [==============================] - 15s 85ms/step - loss: 0.1329 - accuracy: 0.9541 - val_loss: 0.3707 - val_accuracy: 0.8726\n",
            "Epoch 6/100\n",
            "179/179 [==============================] - 16s 87ms/step - loss: 0.0981 - accuracy: 0.9646 - val_loss: 1.3042 - val_accuracy: 0.6895\n",
            "Epoch 7/100\n",
            "179/179 [==============================] - 16s 87ms/step - loss: 0.0764 - accuracy: 0.9750 - val_loss: 0.5974 - val_accuracy: 0.7803\n",
            "Epoch 8/100\n",
            "179/179 [==============================] - 16s 87ms/step - loss: 0.0578 - accuracy: 0.9821 - val_loss: 0.3261 - val_accuracy: 0.8947\n",
            "Epoch 9/100\n",
            "179/179 [==============================] - 15s 85ms/step - loss: 0.0483 - accuracy: 0.9834 - val_loss: 1.2642 - val_accuracy: 0.7292\n",
            "Epoch 10/100\n",
            "179/179 [==============================] - 16s 87ms/step - loss: 0.0517 - accuracy: 0.9820 - val_loss: 0.1460 - val_accuracy: 0.9497\n",
            "Epoch 11/100\n",
            "179/179 [==============================] - 16s 87ms/step - loss: 0.0603 - accuracy: 0.9804 - val_loss: 1.9419 - val_accuracy: 0.5202\n",
            "Epoch 12/100\n",
            "179/179 [==============================] - 16s 87ms/step - loss: 0.0342 - accuracy: 0.9891 - val_loss: 1.1479 - val_accuracy: 0.7902\n",
            "Epoch 13/100\n",
            "179/179 [==============================] - 16s 87ms/step - loss: 0.0273 - accuracy: 0.9912 - val_loss: 0.2045 - val_accuracy: 0.9451\n",
            "Epoch 14/100\n",
            "179/179 [==============================] - 19s 103ms/step - loss: 0.0222 - accuracy: 0.9923 - val_loss: 0.1948 - val_accuracy: 0.9535\n",
            "Epoch 15/100\n",
            "179/179 [==============================] - 16s 87ms/step - loss: 0.0594 - accuracy: 0.9813 - val_loss: 0.5337 - val_accuracy: 0.8688\n",
            "Epoch 16/100\n",
            "179/179 [==============================] - 16s 87ms/step - loss: 0.0394 - accuracy: 0.9860 - val_loss: 0.2293 - val_accuracy: 0.9283\n",
            "Epoch 17/100\n",
            "179/179 [==============================] - 17s 92ms/step - loss: 0.0251 - accuracy: 0.9919 - val_loss: 0.1231 - val_accuracy: 0.9687\n",
            "Epoch 18/100\n",
            "179/179 [==============================] - 17s 90ms/step - loss: 0.0589 - accuracy: 0.9797 - val_loss: 0.8904 - val_accuracy: 0.7651\n",
            "Epoch 19/100\n",
            "179/179 [==============================] - 16s 86ms/step - loss: 0.0472 - accuracy: 0.9835 - val_loss: 0.0786 - val_accuracy: 0.9771\n",
            "Epoch 20/100\n",
            "179/179 [==============================] - 16s 85ms/step - loss: 0.0143 - accuracy: 0.9956 - val_loss: 0.0838 - val_accuracy: 0.9710\n",
            "Epoch 21/100\n",
            "179/179 [==============================] - 15s 84ms/step - loss: 0.0183 - accuracy: 0.9942 - val_loss: 0.1108 - val_accuracy: 0.9664\n",
            "Epoch 22/100\n",
            "179/179 [==============================] - 17s 92ms/step - loss: 0.0190 - accuracy: 0.9935 - val_loss: 0.3800 - val_accuracy: 0.9077\n",
            "Epoch 23/100\n",
            "179/179 [==============================] - 16s 86ms/step - loss: 0.0257 - accuracy: 0.9919 - val_loss: 0.0933 - val_accuracy: 0.9741\n",
            "Epoch 24/100\n",
            "179/179 [==============================] - 19s 102ms/step - loss: 0.0213 - accuracy: 0.9925 - val_loss: 0.2368 - val_accuracy: 0.9367\n",
            "Epoch 25/100\n",
            "179/179 [==============================] - 16s 86ms/step - loss: 0.0079 - accuracy: 0.9977 - val_loss: 0.0643 - val_accuracy: 0.9855\n",
            "Epoch 26/100\n",
            "179/179 [==============================] - 16s 90ms/step - loss: 0.0123 - accuracy: 0.9960 - val_loss: 0.1232 - val_accuracy: 0.9687\n",
            "Epoch 27/100\n",
            "179/179 [==============================] - 16s 89ms/step - loss: 0.0270 - accuracy: 0.9904 - val_loss: 0.3604 - val_accuracy: 0.9169\n",
            "Epoch 28/100\n",
            "179/179 [==============================] - 18s 97ms/step - loss: 0.0226 - accuracy: 0.9930 - val_loss: 0.0882 - val_accuracy: 0.9733\n",
            "Epoch 29/100\n",
            "179/179 [==============================] - 16s 87ms/step - loss: 0.0094 - accuracy: 0.9970 - val_loss: 0.1223 - val_accuracy: 0.9725\n",
            "Epoch 30/100\n",
            "179/179 [==============================] - 16s 88ms/step - loss: 0.0252 - accuracy: 0.9923 - val_loss: 0.2819 - val_accuracy: 0.9207\n",
            "Epoch 31/100\n",
            "179/179 [==============================] - 19s 103ms/step - loss: 0.0367 - accuracy: 0.9900 - val_loss: 0.1688 - val_accuracy: 0.9512\n",
            "Epoch 32/100\n",
            "179/179 [==============================] - 16s 89ms/step - loss: 0.0210 - accuracy: 0.9928 - val_loss: 0.1725 - val_accuracy: 0.9710\n",
            "Epoch 33/100\n",
            "179/179 [==============================] - 19s 102ms/step - loss: 0.0092 - accuracy: 0.9967 - val_loss: 0.0981 - val_accuracy: 0.9764\n",
            "Epoch 34/100\n",
            "179/179 [==============================] - 16s 89ms/step - loss: 0.0077 - accuracy: 0.9968 - val_loss: 0.0969 - val_accuracy: 0.9794\n",
            "Epoch 35/100\n",
            "178/179 [============================>.] - ETA: 0s - loss: 0.0209 - accuracy: 0.9942Restoring model weights from the end of the best epoch: 25.\n",
            "179/179 [==============================] - 16s 88ms/step - loss: 0.0209 - accuracy: 0.9942 - val_loss: 0.1210 - val_accuracy: 0.9764\n",
            "Epoch 35: early stopping\n"
          ]
        }
      ]
    },
    {
      "cell_type": "code",
      "source": [
        "plt.plot(hist.history['accuracy'], color = 'red', label = 'accuracy')\n",
        "plt.plot(hist.history['val_accuracy'], color = 'blue', label = 'val_acc')\n",
        "plt.legend()\n",
        "plt.show()"
      ],
      "metadata": {
        "id": "RC8Wxq9uGICB",
        "colab": {
          "base_uri": "https://localhost:8080/",
          "height": 430
        },
        "outputId": "ca13cf5d-7f37-4aab-c4e6-4c835f7f2363"
      },
      "execution_count": null,
      "outputs": [
        {
          "output_type": "display_data",
          "data": {
            "text/plain": [
              "<Figure size 640x480 with 1 Axes>"
            ],
            "image/png": "[encoded data removed]"
          },
          "metadata": {}
        }
      ]
    },
    {
      "cell_type": "code",
      "source": [
        "pred = model.predict(test_data)"
      ],
      "metadata": {
        "colab": {
          "base_uri": "https://localhost:8080/"
        },
        "id": "PGyUmMOYFQCk",
        "outputId": "5f8cce6e-43bf-43ab-9806-5478c0ec23ad"
      },
      "execution_count": null,
      "outputs": [
        {
          "output_type": "stream",
          "name": "stdout",
          "text": [
            "41/41 [==============================] - 3s 48ms/step\n"
          ]
        }
      ]
    },
    {
      "cell_type": "code",
      "source": [
        "pred"
      ],
      "metadata": {
        "colab": {
          "base_uri": "https://localhost:8080/"
        },
        "id": "ILLwkWtwF28L",
        "outputId": "cac3f5fb-63db-47f3-d184-2a7936a0d582"
      },
      "execution_count": null,
      "outputs": [
        {
          "output_type": "execute_result",
          "data": {
            "text/plain": [
              "array([[1.6995572e-01, 8.2992136e-01, 4.8073703e-06, 1.1809292e-04],\n",
              "       [4.1695010e-05, 2.7407764e-04, 9.9968410e-01, 1.2243997e-07],\n",
              "       [6.0054426e-06, 9.9962604e-01, 3.6265043e-04, 5.2713949e-06],\n",
              "       ...,\n",
              "       [1.0786822e-06, 1.5315237e-06, 8.3992036e-06, 9.9998903e-01],\n",
              "       [9.9996400e-01, 1.6161947e-07, 2.2142045e-08, 3.5809586e-05],\n",
              "       [5.3578091e-01, 4.6302974e-01, 6.0375790e-08, 1.1893264e-03]],\n",
              "      dtype=float32)"
            ]
          },
          "metadata": {},
          "execution_count": 19
        }
      ]
    },
    {
      "cell_type": "code",
      "source": [
        "pred = np.argmax(pred, axis = 1)"
      ],
      "metadata": {
        "id": "0CTLZ61qF44N"
      },
      "execution_count": null,
      "outputs": []
    },
    {
      "cell_type": "code",
      "source": [
        "print(list(pred))"
      ],
      "metadata": {
        "colab": {
          "base_uri": "https://localhost:8080/"
        },
        "id": "SQ9Oyva0GwJj",
        "outputId": "1b8c6e91-ecc8-4482-f0c3-7eca2c7752bb"
      },
      "execution_count": null,
      "outputs": [
        {
          "output_type": "stream",
          "name": "stdout",
          "text": [
            "[1, 2, 1, 2, 2, 1, 1, 2, 1, 3, 0, 3, 0, 0, 0, 1, 1, 0, 2, 2, 2, 3, 3, 1, 0, 3, 2, 2, 1, 0, 3, 3, 3, 3, 2, 2, 0, 0, 3, 1, 3, 3, 1, 2, 3, 2, 1, 1, 2, 1, 0, 1, 1, 1, 1, 2, 0, 0, 2, 2, 2, 0, 1, 0, 1, 3, 3, 2, 0, 0, 1, 0, 2, 2, 2, 2, 2, 0, 0, 1, 2, 2, 2, 2, 2, 2, 0, 0, 2, 2, 0, 0, 1, 2, 2, 0, 2, 1, 3, 2, 0, 3, 0, 0, 3, 2, 3, 2, 1, 3, 1, 2, 2, 2, 3, 1, 1, 1, 0, 0, 3, 1, 3, 3, 1, 3, 3, 2, 0, 1, 0, 1, 3, 0, 1, 2, 2, 2, 0, 3, 2, 0, 1, 1, 0, 1, 2, 3, 3, 2, 2, 3, 1, 2, 3, 0, 1, 0, 0, 2, 0, 0, 2, 0, 0, 0, 3, 0, 0, 1, 1, 3, 2, 2, 2, 3, 2, 2, 0, 3, 1, 2, 3, 2, 2, 3, 2, 2, 2, 0, 2, 0, 3, 0, 2, 3, 3, 1, 0, 3, 0, 0, 1, 0, 0, 3, 2, 0, 1, 3, 0, 3, 2, 1, 0, 2, 0, 1, 0, 1, 1, 2, 3, 2, 0, 2, 3, 0, 1, 0, 3, 3, 2, 0, 2, 2, 1, 3, 1, 1, 0, 3, 0, 2, 2, 3, 0, 0, 2, 3, 1, 0, 1, 1, 1, 0, 0, 2, 2, 3, 2, 0, 0, 1, 0, 1, 2, 2, 3, 2, 2, 2, 3, 0, 0, 1, 2, 2, 2, 3, 2, 2, 2, 3, 2, 2, 1, 1, 3, 2, 2, 1, 2, 0, 2, 1, 2, 0, 3, 3, 2, 0, 1, 0, 1, 1, 3, 2, 2, 0, 3, 1, 3, 2, 2, 2, 2, 3, 1, 3, 1, 1, 2, 2, 3, 0, 1, 2, 2, 2, 2, 1, 3, 3, 0, 3, 2, 3, 0, 2, 0, 3, 0, 3, 1, 2, 1, 2, 2, 2, 3, 3, 0, 3, 0, 2, 0, 0, 2, 0, 0, 3, 2, 2, 1, 0, 0, 0, 3, 3, 1, 3, 2, 1, 1, 2, 3, 2, 3, 1, 2, 2, 2, 1, 2, 3, 3, 0, 1, 1, 0, 0, 3, 2, 3, 2, 0, 1, 2, 0, 3, 2, 3, 2, 2, 3, 1, 1, 2, 1, 1, 2, 0, 2, 2, 1, 0, 0, 1, 3, 1, 2, 1, 0, 3, 3, 1, 0, 2, 3, 1, 2, 1, 2, 0, 0, 0, 2, 2, 3, 1, 1, 1, 0, 2, 3, 0, 0, 0, 2, 2, 3, 2, 2, 2, 1, 1, 2, 3, 0, 2, 2, 0, 3, 3, 2, 2, 1, 2, 3, 0, 0, 3, 2, 2, 2, 2, 2, 2, 1, 2, 3, 1, 2, 0, 2, 2, 3, 1, 3, 2, 1, 1, 0, 1, 0, 0, 3, 3, 3, 0, 2, 2, 0, 2, 1, 3, 3, 2, 2, 3, 0, 2, 2, 0, 2, 0, 3, 0, 0, 1, 1, 2, 0, 0, 2, 2, 2, 2, 1, 3, 1, 2, 1, 2, 2, 2, 1, 1, 1, 2, 2, 1, 1, 2, 2, 2, 3, 1, 1, 3, 0, 0, 2, 3, 3, 0, 2, 1, 1, 2, 2, 2, 2, 3, 1, 3, 2, 1, 0, 2, 0, 2, 2, 1, 0, 2, 2, 1, 2, 3, 2, 1, 0, 2, 0, 0, 3, 0, 3, 1, 1, 2, 3, 2, 0, 2, 2, 0, 1, 0, 2, 3, 0, 1, 3, 2, 1, 3, 2, 2, 0, 1, 0, 2, 3, 3, 0, 2, 3, 1, 0, 1, 1, 3, 1, 1, 0, 2, 2, 0, 0, 1, 2, 1, 1, 0, 3, 2, 2, 0, 1, 1, 0, 2, 2, 0, 3, 0, 3, 0, 2, 2, 1, 2, 1, 3, 0, 0, 2, 1, 2, 0, 3, 0, 3, 1, 1, 1, 2, 3, 1, 3, 2, 2, 0, 3, 2, 2, 2, 1, 3, 1, 1, 3, 1, 3, 1, 2, 3, 0, 0, 1, 1, 1, 3, 2, 2, 1, 0, 1, 0, 2, 0, 3, 0, 1, 0, 2, 3, 1, 3, 3, 2, 2, 2, 2, 3, 1, 2, 3, 2, 2, 2, 1, 3, 3, 2, 2, 1, 3, 1, 1, 2, 0, 3, 0, 2, 3, 3, 1, 3, 0, 0, 1, 1, 1, 2, 2, 3, 3, 0, 3, 3, 3, 2, 0, 1, 0, 1, 3, 2, 0, 3, 3, 2, 3, 2, 3, 2, 2, 3, 1, 1, 2, 0, 1, 2, 1, 1, 2, 2, 3, 2, 0, 0, 0, 3, 3, 2, 0, 2, 2, 3, 2, 2, 0, 0, 3, 3, 3, 2, 1, 3, 2, 0, 1, 3, 1, 0, 0, 1, 0, 1, 1, 2, 2, 2, 3, 0, 3, 0, 0, 2, 1, 0, 0, 0, 1, 0, 2, 0, 2, 3, 1, 3, 2, 0, 2, 3, 3, 1, 2, 2, 1, 1, 0, 1, 0, 2, 1, 1, 3, 3, 0, 0, 1, 1, 0, 3, 1, 3, 2, 1, 3, 0, 1, 3, 0, 2, 0, 2, 1, 2, 1, 0, 0, 0, 1, 3, 1, 2, 1, 2, 2, 3, 0, 3, 0, 2, 2, 1, 0, 2, 3, 1, 0, 2, 3, 0, 2, 1, 2, 3, 1, 0, 1, 1, 1, 0, 2, 2, 2, 1, 3, 1, 0, 3, 3, 1, 2, 2, 2, 0, 0, 3, 0, 1, 1, 0, 2, 3, 1, 3, 1, 3, 3, 3, 1, 3, 1, 3, 0, 0, 3, 3, 0, 1, 3, 2, 1, 2, 1, 2, 3, 1, 2, 3, 3, 3, 0, 2, 2, 3, 2, 3, 1, 2, 2, 0, 2, 3, 1, 1, 3, 1, 1, 0, 1, 0, 3, 0, 2, 0, 2, 1, 2, 0, 2, 3, 1, 0, 3, 3, 2, 0, 1, 2, 3, 2, 3, 3, 1, 3, 0, 2, 1, 1, 2, 3, 2, 1, 1, 3, 0, 1, 1, 0, 1, 1, 0, 0, 0, 3, 0, 0, 2, 2, 0, 1, 0, 3, 3, 2, 2, 0, 0, 3, 3, 2, 2, 2, 0, 2, 2, 3, 0, 2, 0, 2, 2, 3, 2, 1, 3, 1, 2, 1, 3, 2, 1, 0, 2, 2, 0, 3, 3, 3, 3, 0, 1, 3, 0, 2, 3, 0, 3, 2, 1, 2, 3, 2, 1, 2, 2, 3, 1, 1, 1, 0, 1, 1, 3, 0, 3, 3, 3, 2, 1, 3, 3, 3, 2, 0, 3, 1, 1, 0, 2, 2, 3, 2, 2, 2, 2, 0, 2, 1, 3, 3, 2, 2, 3, 1, 1, 1, 0, 1, 2, 0, 1, 0, 2, 0, 2, 3, 2, 3, 3, 0, 3, 1, 2, 1, 3, 0, 1, 3, 2, 3, 3, 1, 0, 3, 1, 0, 1, 2, 2, 2, 2, 2, 1, 2, 3, 2, 1, 2, 2, 0, 2, 1, 2, 3, 2, 3, 1, 1, 1, 1, 0, 3, 3, 0, 1, 0, 2, 1, 2, 2, 0, 2, 2, 3, 1, 3, 0, 2, 2, 0, 2, 2, 2, 0, 0, 1, 2, 3, 0, 1, 0, 3, 1, 3, 1, 3, 3, 3, 1, 3, 3, 2, 2, 2, 2, 3, 2, 0, 3, 3, 3, 2, 3, 3, 1, 3, 0, 2, 2, 3, 0, 1, 3, 0, 1, 2, 0, 0, 0, 2, 1, 0, 1, 3, 2, 1, 2, 0, 3, 0, 3, 0, 1, 1, 2, 1, 3, 0, 3, 3, 1, 1, 2, 0, 3, 0, 0, 2, 0, 2, 2, 2, 1, 2, 1, 1, 2, 3, 1, 1, 0, 1, 1, 3, 2, 0, 3, 3, 1, 3, 3, 2, 2, 0, 1, 2, 3, 1, 3, 0, 0]\n"
          ]
        }
      ]
    }
  ]
}